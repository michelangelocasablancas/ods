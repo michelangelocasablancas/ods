{
 "cells": [
  {
   "cell_type": "code",
   "execution_count": 1,
   "metadata": {},
   "outputs": [],
   "source": [
    "import pandas as pd"
   ]
  },
  {
   "cell_type": "markdown",
   "metadata": {},
   "source": [
    "Abrimos la hoja de cálculo"
   ]
  },
  {
   "cell_type": "code",
   "execution_count": 2,
   "metadata": {},
   "outputs": [],
   "source": [
    "xlsx = pd.ExcelFile('../data/Diccionario Palabras ODS.xlsx')"
   ]
  },
  {
   "cell_type": "markdown",
   "metadata": {},
   "source": [
    "Estas son las hojas que hay. La que incluye las palabras es **ODS**"
   ]
  },
  {
   "cell_type": "code",
   "execution_count": 3,
   "metadata": {},
   "outputs": [
    {
     "data": {
      "text/plain": [
       "['ODS', 'indicadores Baleares']"
      ]
     },
     "execution_count": 3,
     "metadata": {},
     "output_type": "execute_result"
    }
   ],
   "source": [
    "xlsx.sheet_names"
   ]
  },
  {
   "cell_type": "markdown",
   "metadata": {},
   "source": [
    "Creamos un dataframe con el contenido de la hoja **ODS**"
   ]
  },
  {
   "cell_type": "code",
   "execution_count": 4,
   "metadata": {},
   "outputs": [],
   "source": [
    "df = pd.read_excel('../data/Diccionario Palabras ODS.xlsx', sheet_name='ODS')"
   ]
  },
  {
   "cell_type": "code",
   "execution_count": 5,
   "metadata": {},
   "outputs": [
    {
     "data": {
      "text/html": [
       "<div>\n",
       "<style scoped>\n",
       "    .dataframe tbody tr th:only-of-type {\n",
       "        vertical-align: middle;\n",
       "    }\n",
       "\n",
       "    .dataframe tbody tr th {\n",
       "        vertical-align: top;\n",
       "    }\n",
       "\n",
       "    .dataframe thead th {\n",
       "        text-align: right;\n",
       "    }\n",
       "</style>\n",
       "<table border=\"1\" class=\"dataframe\">\n",
       "  <thead>\n",
       "    <tr style=\"text-align: right;\">\n",
       "      <th></th>\n",
       "      <th>Unnamed: 0</th>\n",
       "      <th>Unnamed: 1</th>\n",
       "      <th>Unnamed: 2</th>\n",
       "      <th>ODS</th>\n",
       "      <th>ODS.1</th>\n",
       "      <th>PALABRAS</th>\n",
       "      <th>SOSTENIBILIDAD</th>\n",
       "      <th>Lista blanca de palabras</th>\n",
       "      <th>KPI</th>\n",
       "      <th>Observaciones</th>\n",
       "    </tr>\n",
       "  </thead>\n",
       "  <tbody>\n",
       "    <tr>\n",
       "      <th>0</th>\n",
       "      <td>NaN</td>\n",
       "      <td>NaN</td>\n",
       "      <td>NaN</td>\n",
       "      <td>01 FIN DE POBREZA</td>\n",
       "      <td>1</td>\n",
       "      <td>ALIMENTOS ASEQUIBLES</td>\n",
       "      <td>NaN</td>\n",
       "      <td>NaN</td>\n",
       "      <td>NaN</td>\n",
       "      <td>NaN</td>\n",
       "    </tr>\n",
       "    <tr>\n",
       "      <th>1</th>\n",
       "      <td>NaN</td>\n",
       "      <td>NaN</td>\n",
       "      <td>NaN</td>\n",
       "      <td>NaN</td>\n",
       "      <td>1</td>\n",
       "      <td>CAMPAÑAS SOLIDARIAS</td>\n",
       "      <td>NaN</td>\n",
       "      <td>NaN</td>\n",
       "      <td>NaN</td>\n",
       "      <td>NaN</td>\n",
       "    </tr>\n",
       "    <tr>\n",
       "      <th>2</th>\n",
       "      <td>NaN</td>\n",
       "      <td>NaN</td>\n",
       "      <td>NaN</td>\n",
       "      <td>NaN</td>\n",
       "      <td>1</td>\n",
       "      <td>DONACIONES</td>\n",
       "      <td>NaN</td>\n",
       "      <td>NaN</td>\n",
       "      <td>NaN</td>\n",
       "      <td>NaN</td>\n",
       "    </tr>\n",
       "    <tr>\n",
       "      <th>3</th>\n",
       "      <td>NaN</td>\n",
       "      <td>NaN</td>\n",
       "      <td>NaN</td>\n",
       "      <td>NaN</td>\n",
       "      <td>1</td>\n",
       "      <td>EVENTOS BENÉFICOS</td>\n",
       "      <td>NaN</td>\n",
       "      <td>NaN</td>\n",
       "      <td>NaN</td>\n",
       "      <td>NaN</td>\n",
       "    </tr>\n",
       "    <tr>\n",
       "      <th>4</th>\n",
       "      <td>NaN</td>\n",
       "      <td>NaN</td>\n",
       "      <td>NaN</td>\n",
       "      <td>NaN</td>\n",
       "      <td>1</td>\n",
       "      <td>FIN DE LA POBREZA</td>\n",
       "      <td>NaN</td>\n",
       "      <td>NaN</td>\n",
       "      <td>NaN</td>\n",
       "      <td>NaN</td>\n",
       "    </tr>\n",
       "  </tbody>\n",
       "</table>\n",
       "</div>"
      ],
      "text/plain": [
       "   Unnamed: 0  Unnamed: 1  Unnamed: 2                ODS  ODS.1  \\\n",
       "0         NaN         NaN         NaN  01 FIN DE POBREZA      1   \n",
       "1         NaN         NaN         NaN                NaN      1   \n",
       "2         NaN         NaN         NaN                NaN      1   \n",
       "3         NaN         NaN         NaN                NaN      1   \n",
       "4         NaN         NaN         NaN                NaN      1   \n",
       "\n",
       "               PALABRAS SOSTENIBILIDAD  Lista blanca de palabras  KPI  \\\n",
       "0  ALIMENTOS ASEQUIBLES             NaN                      NaN  NaN   \n",
       "1   CAMPAÑAS SOLIDARIAS             NaN                      NaN  NaN   \n",
       "2            DONACIONES             NaN                      NaN  NaN   \n",
       "3     EVENTOS BENÉFICOS             NaN                      NaN  NaN   \n",
       "4     FIN DE LA POBREZA             NaN                      NaN  NaN   \n",
       "\n",
       "  Observaciones  \n",
       "0           NaN  \n",
       "1           NaN  \n",
       "2           NaN  \n",
       "3           NaN  \n",
       "4           NaN  "
      ]
     },
     "execution_count": 5,
     "metadata": {},
     "output_type": "execute_result"
    }
   ],
   "source": [
    "df.head()"
   ]
  },
  {
   "cell_type": "markdown",
   "metadata": {},
   "source": [
    "Las columnas A-C están vacías."
   ]
  },
  {
   "cell_type": "code",
   "execution_count": 6,
   "metadata": {},
   "outputs": [],
   "source": [
    "df.drop(['Unnamed: 0', 'Unnamed: 1', 'Unnamed: 2'], axis=1, inplace=True)"
   ]
  },
  {
   "cell_type": "code",
   "execution_count": 7,
   "metadata": {},
   "outputs": [
    {
     "data": {
      "text/html": [
       "<div>\n",
       "<style scoped>\n",
       "    .dataframe tbody tr th:only-of-type {\n",
       "        vertical-align: middle;\n",
       "    }\n",
       "\n",
       "    .dataframe tbody tr th {\n",
       "        vertical-align: top;\n",
       "    }\n",
       "\n",
       "    .dataframe thead th {\n",
       "        text-align: right;\n",
       "    }\n",
       "</style>\n",
       "<table border=\"1\" class=\"dataframe\">\n",
       "  <thead>\n",
       "    <tr style=\"text-align: right;\">\n",
       "      <th></th>\n",
       "      <th>ODS</th>\n",
       "      <th>ODS.1</th>\n",
       "      <th>PALABRAS</th>\n",
       "      <th>SOSTENIBILIDAD</th>\n",
       "      <th>Lista blanca de palabras</th>\n",
       "      <th>KPI</th>\n",
       "      <th>Observaciones</th>\n",
       "    </tr>\n",
       "  </thead>\n",
       "  <tbody>\n",
       "    <tr>\n",
       "      <th>0</th>\n",
       "      <td>01 FIN DE POBREZA</td>\n",
       "      <td>1</td>\n",
       "      <td>ALIMENTOS ASEQUIBLES</td>\n",
       "      <td>NaN</td>\n",
       "      <td>NaN</td>\n",
       "      <td>NaN</td>\n",
       "      <td>NaN</td>\n",
       "    </tr>\n",
       "    <tr>\n",
       "      <th>1</th>\n",
       "      <td>NaN</td>\n",
       "      <td>1</td>\n",
       "      <td>CAMPAÑAS SOLIDARIAS</td>\n",
       "      <td>NaN</td>\n",
       "      <td>NaN</td>\n",
       "      <td>NaN</td>\n",
       "      <td>NaN</td>\n",
       "    </tr>\n",
       "    <tr>\n",
       "      <th>2</th>\n",
       "      <td>NaN</td>\n",
       "      <td>1</td>\n",
       "      <td>DONACIONES</td>\n",
       "      <td>NaN</td>\n",
       "      <td>NaN</td>\n",
       "      <td>NaN</td>\n",
       "      <td>NaN</td>\n",
       "    </tr>\n",
       "    <tr>\n",
       "      <th>3</th>\n",
       "      <td>NaN</td>\n",
       "      <td>1</td>\n",
       "      <td>EVENTOS BENÉFICOS</td>\n",
       "      <td>NaN</td>\n",
       "      <td>NaN</td>\n",
       "      <td>NaN</td>\n",
       "      <td>NaN</td>\n",
       "    </tr>\n",
       "    <tr>\n",
       "      <th>4</th>\n",
       "      <td>NaN</td>\n",
       "      <td>1</td>\n",
       "      <td>FIN DE LA POBREZA</td>\n",
       "      <td>NaN</td>\n",
       "      <td>NaN</td>\n",
       "      <td>NaN</td>\n",
       "      <td>NaN</td>\n",
       "    </tr>\n",
       "  </tbody>\n",
       "</table>\n",
       "</div>"
      ],
      "text/plain": [
       "                 ODS  ODS.1              PALABRAS SOSTENIBILIDAD   \\\n",
       "0  01 FIN DE POBREZA      1  ALIMENTOS ASEQUIBLES             NaN   \n",
       "1                NaN      1   CAMPAÑAS SOLIDARIAS             NaN   \n",
       "2                NaN      1            DONACIONES             NaN   \n",
       "3                NaN      1     EVENTOS BENÉFICOS             NaN   \n",
       "4                NaN      1     FIN DE LA POBREZA             NaN   \n",
       "\n",
       "  Lista blanca de palabras  KPI Observaciones  \n",
       "0                      NaN  NaN           NaN  \n",
       "1                      NaN  NaN           NaN  \n",
       "2                      NaN  NaN           NaN  \n",
       "3                      NaN  NaN           NaN  \n",
       "4                      NaN  NaN           NaN  "
      ]
     },
     "execution_count": 7,
     "metadata": {},
     "output_type": "execute_result"
    }
   ],
   "source": [
    "df.head()"
   ]
  },
  {
   "cell_type": "markdown",
   "metadata": {},
   "source": [
    "La columna **ODS** contiene el nombre del ODS y la columna **ODS.1** el número. En la primera sólo aparece el nombre una vez. El resto de celdas están vacías.\n",
    "\n",
    "Estos son los 17 ODS."
   ]
  },
  {
   "cell_type": "code",
   "execution_count": 8,
   "metadata": {},
   "outputs": [
    {
     "data": {
      "text/plain": [
       "0                              FIN DE POBREZA\n",
       "1                                 HAMBRE CERO\n",
       "2                           SALUD Y BIENESTAR\n",
       "3                        EDUCACION DE CALIDAD\n",
       "4                          IGUALDAD DE GÉNERO\n",
       "5               AGUA LIMPIA Y NO CONTAMINANTE\n",
       "6         ENERGIA ASEQUIBLE Y NO CONTAMINANTE\n",
       "7     TRABAJO DECENTE Y CRECIMIENTO ECONÓMICO\n",
       "8                       INDUSTRIA, INNOVACION\n",
       "9                     REDUCCION DESIGUALDADES\n",
       "10                       CIUDADES SOSTENIBLES\n",
       "11           PRODUCCIÓN Y CONSUMO RESPONSABLE\n",
       "12                           CAMBIO CLIMÁTICO\n",
       "13                             VIDA SUBMARINA\n",
       "14             VIDA EN ECOSISTEMAS TERRESTRES\n",
       "15       PAZ, JUSTICIA, INSTITUCIONES SOLIDAS\n",
       "16                                   ALIANZAS\n",
       "Name: ODS, dtype: object"
      ]
     },
     "execution_count": 8,
     "metadata": {},
     "output_type": "execute_result"
    }
   ],
   "source": [
    "ods = df['ODS'].dropna().apply(lambda x: x[2:].strip())\n",
    "ods.index = range(17)\n",
    "ods"
   ]
  },
  {
   "cell_type": "code",
   "execution_count": 9,
   "metadata": {},
   "outputs": [],
   "source": [
    "pd.DataFrame(ods).to_feather('../data/ods')"
   ]
  },
  {
   "cell_type": "markdown",
   "metadata": {},
   "source": [
    "**Lista de palabras por ODS**"
   ]
  },
  {
   "cell_type": "code",
   "execution_count": 10,
   "metadata": {},
   "outputs": [],
   "source": [
    "pd.set_option('max_colwidth', 100)"
   ]
  },
  {
   "cell_type": "code",
   "execution_count": 11,
   "metadata": {},
   "outputs": [
    {
     "data": {
      "text/plain": [
       "ODS.1\n",
       "1     [ALIMENTOS ASEQUIBLES, CAMPAÑAS SOLIDARIAS, DONACIONES, EVENTOS BENÉFICOS, FIN DE LA POBREZA, FU...\n",
       "2     [AGRICULTURA ECOLÓGICA, AGRICULTURA SOSTENIBLE, ALIMENTOS ASEQUIBLES, DESPERDICIAR COMIDA, DONAC...\n",
       "3     [ACCIDENTE LABORAL, ACTIVIDAD FÍSICA, ALIMENTOS ASEQUIBLES, ATENCIÓN MEDICA, BIENESTAR, BUENA SA...\n",
       "4     [ACCESO A INTERNET, APRENDER, APRENDIZAJE, APRENDIZAJE DIGITAL, BECAS, COLEGIOS, EDUCACION, EDUC...\n",
       "5     [CONDICIONES LABORABLES JUSTAS, CONTRATACION IGUALITARIA, CONCILIACION LABORAL, EMPODERAR, IGUAL...\n",
       "6     [AGUA, AGUA LIMPIA, CONSUMO AGUA, DISPONIBILIDAD DE AGUA, GESTION DE AGUA SOSTENIBLE, REDUCIR CO...\n",
       "7     [AHORRO ENERGETICO, DOMÓTICA, EFICIENCIA ENERGÉTICA, ENERGIA, ENERGIA ASEQUIBLE, ENERGÍA LIMPIA,...\n",
       "8     [BECAS, CONTRATACION IGUALITARIA, CONCILIACION LABORAL, CREACION PUESTOS DE TRABAJO, CREATIVIDAD...\n",
       "9     [CREATIVIDAD, ECONOMIA CIRCULAR, DIGITALIZACION, EFICIENCIA TRANSPORTE, FOMENTAR INNOVACION, IND...\n",
       "10    [CRISIS HUMANITARIAS, DESIGUALDADES, EMPLEO INCLUSIVO, FUNDACIONES, INCLUSION SOCIAL, INDICE GIN...\n",
       "11    [CIUDADES , CIUDADES SOSTENIBLES, CONCENTRACION NO2, CONCENTRACION 03, CONCENTRACION PM10, EDIFI...\n",
       "12    [AHORRAR RECURSOS, AHORRO COSTES, CONSUMO, CONSUMO LOCAL, CONSUMO RESPONSABLE, CONSUMO SOSTENIBL...\n",
       "13    [AHORRO ENERGIA, ANDAR, CAMBIO CLIMATICO, CLIMA, EMISIONES CO2, ISO 14001, PRODUCTOS LOCALES, RE...\n",
       "14    [CONSERVACION MARINA, CONTAMINACION MARINA, COSTA PROTEGIDA, DPMT, IMPACTO AMBIENTAL, ISO 14001,...\n",
       "15    [BOSQUES, CATÁSTROFE NATURAL, CONSERVACION, DEGRADACIÓN DE TIERRAS, DESERTIFICACIÓN, DIVERSIDAD ...\n",
       "16    [ACCESO A LA JUSTICIA, ANTI-CORRUPCION, ASESINATOS, AUDITORIAS, CANAL DENUNCIAS, CODIGO CONDUCTA...\n",
       "17                                      [ALIANZA MUNDIAL, ALIANZAS, ASOCIACIONES, CNMC, FUNDACIONES, ITA]\n",
       "Name: PALABRAS, dtype: object"
      ]
     },
     "execution_count": 11,
     "metadata": {},
     "output_type": "execute_result"
    }
   ],
   "source": [
    "df[['ODS.1', 'PALABRAS']].dropna().groupby('ODS.1')['PALABRAS'].apply(list)"
   ]
  },
  {
   "cell_type": "code",
   "execution_count": 12,
   "metadata": {},
   "outputs": [],
   "source": [
    "df.to_feather('../data/diccionario_palabras_ods')"
   ]
  },
  {
   "cell_type": "code",
   "execution_count": 13,
   "metadata": {},
   "outputs": [
    {
     "data": {
      "text/html": [
       "<div>\n",
       "<style scoped>\n",
       "    .dataframe tbody tr th:only-of-type {\n",
       "        vertical-align: middle;\n",
       "    }\n",
       "\n",
       "    .dataframe tbody tr th {\n",
       "        vertical-align: top;\n",
       "    }\n",
       "\n",
       "    .dataframe thead th {\n",
       "        text-align: right;\n",
       "    }\n",
       "</style>\n",
       "<table border=\"1\" class=\"dataframe\">\n",
       "  <thead>\n",
       "    <tr style=\"text-align: right;\">\n",
       "      <th></th>\n",
       "      <th>ODS</th>\n",
       "      <th>PALABRAS</th>\n",
       "    </tr>\n",
       "  </thead>\n",
       "  <tbody>\n",
       "    <tr>\n",
       "      <th>0</th>\n",
       "      <td>01 FIN DE POBREZA</td>\n",
       "      <td>ALIMENTOS ASEQUIBLES</td>\n",
       "    </tr>\n",
       "    <tr>\n",
       "      <th>1</th>\n",
       "      <td></td>\n",
       "      <td>CAMPAÑAS SOLIDARIAS</td>\n",
       "    </tr>\n",
       "    <tr>\n",
       "      <th>2</th>\n",
       "      <td></td>\n",
       "      <td>DONACIONES</td>\n",
       "    </tr>\n",
       "    <tr>\n",
       "      <th>3</th>\n",
       "      <td></td>\n",
       "      <td>EVENTOS BENÉFICOS</td>\n",
       "    </tr>\n",
       "    <tr>\n",
       "      <th>4</th>\n",
       "      <td></td>\n",
       "      <td>FIN DE LA POBREZA</td>\n",
       "    </tr>\n",
       "  </tbody>\n",
       "</table>\n",
       "</div>"
      ],
      "text/plain": [
       "                 ODS              PALABRAS\n",
       "0  01 FIN DE POBREZA  ALIMENTOS ASEQUIBLES\n",
       "1                      CAMPAÑAS SOLIDARIAS\n",
       "2                               DONACIONES\n",
       "3                        EVENTOS BENÉFICOS\n",
       "4                        FIN DE LA POBREZA"
      ]
     },
     "execution_count": 13,
     "metadata": {},
     "output_type": "execute_result"
    }
   ],
   "source": [
    "words_list = df[['ODS', 'PALABRAS']][df['PALABRAS'].notna()].fillna(' ')\n",
    "words_list.head()"
   ]
  },
  {
   "cell_type": "code",
   "execution_count": 14,
   "metadata": {},
   "outputs": [],
   "source": [
    "with open('../doc/words_list.md', 'w') as f:\n",
    "    f.write(words_list.to_markdown())"
   ]
  },
  {
   "cell_type": "code",
   "execution_count": null,
   "metadata": {},
   "outputs": [],
   "source": []
  }
 ],
 "metadata": {
  "kernelspec": {
   "display_name": "Python 3",
   "language": "python",
   "name": "python3"
  },
  "language_info": {
   "codemirror_mode": {
    "name": "ipython",
    "version": 3
   },
   "file_extension": ".py",
   "mimetype": "text/x-python",
   "name": "python",
   "nbconvert_exporter": "python",
   "pygments_lexer": "ipython3",
   "version": "3.6.10"
  }
 },
 "nbformat": 4,
 "nbformat_minor": 4
}
