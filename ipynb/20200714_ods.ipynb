{
 "cells": [
  {
   "cell_type": "markdown",
   "metadata": {},
   "source": [
    "Vamos a utilizar el mismo procedimiento usado con los _tweets_ en otros textos"
   ]
  },
  {
   "cell_type": "code",
   "execution_count": 12,
   "metadata": {},
   "outputs": [],
   "source": [
    "import string\n",
    "import re\n",
    "from itertools import product\n",
    "\n",
    "import pandas as pd\n",
    " \n",
    "import spacy\n",
    "from spacy.lang.es.stop_words import STOP_WORDS"
   ]
  },
  {
   "cell_type": "markdown",
   "metadata": {},
   "source": [
    "**Limpieza**"
   ]
  },
  {
   "cell_type": "code",
   "execution_count": 2,
   "metadata": {},
   "outputs": [],
   "source": [
    "def camel_case(example):      \n",
    "    if  any(x in example for x  in string.punctuation)==True:\n",
    "        return False\n",
    "    else:\n",
    "        if any(list(map(str.isupper, example[1:-1]))) and not all(list(map(str.isupper, example[1:-1]))):\n",
    "            return True\n",
    "        else:\n",
    "            return False\n",
    "\n",
    "def camel_case_split(word):\n",
    "    idx = list(map(str.isupper, word))\n",
    "    case_change = [0]\n",
    "    for (i, (x, y)) in enumerate(zip(idx, idx[1:])):\n",
    "        if x and not y:  \n",
    "            case_change.append(i)\n",
    "        elif not x and y:  \n",
    "            case_change.append(i+1)\n",
    "    case_change.append(len(word))\n",
    "    return [word[x:y] for x, y in zip(case_change, case_change[1:]) if x < y]"
   ]
  },
  {
   "cell_type": "code",
   "execution_count": 18,
   "metadata": {},
   "outputs": [],
   "source": [
    "nlp = spacy.load(\"es_core_news_lg\")\n",
    " \n",
    "def clean_tweets(tweet):\n",
    "    # remove stock market tickers like $GE\n",
    "    tweet = re.sub(r'\\$\\w*', '', tweet)\n",
    " \n",
    "    # remove old style retweet text \"RT\"\n",
    "    tweet = re.sub(r'^RT[\\s]+', '', tweet)\n",
    " \n",
    "    # remove hyperlinks\n",
    "    tweet = re.sub('http\\S*','',tweet)\n",
    "    \n",
    "    # remove users\n",
    "    tweet = re.sub(r'@[a-zA-Z0-9]+', '', tweet)\n",
    "    \n",
    "    # split camel case\n",
    "    camel_case_words = [word[1:] for word in re.findall(r'#[a-zA-Z]+', tweet) if camel_case(word[1:])]\n",
    "    splited_words = [' '.join(camel_case_split(word[1:])) for word in re.findall(r'#[a-zA-Z]+', tweet) if camel_case(word[1:])]\n",
    "    for camel, splited in zip(camel_case_words, splited_words):\n",
    "        tweet = tweet.replace(camel, splited)\n",
    "\n",
    "    # remove hashtags\n",
    "    # only removing the hash # sign from the word\n",
    "    tweet = re.sub(r'#', '', tweet)\n",
    "    \n",
    "    # remove single letters\n",
    "    tweet = re.sub(r\"\\b[a-zA-Z]\\b\", \"\", tweet)\n",
    " \n",
    "    # remove multiple spaces\n",
    "    tweet = re.sub(r\"\\s+\", \" \", tweet)\n",
    "\n",
    "    # tokenize tweets\n",
    "    tweet_tokens = nlp(tweet)\n",
    " \n",
    "    tweets_clean = [word.lemma_ for word in tweet_tokens if not word.is_stop and word.pos_ != 'PUNCT']\n",
    " \n",
    "    return ' '.join(tweets_clean).lower().strip()"
   ]
  },
  {
   "cell_type": "markdown",
   "metadata": {},
   "source": [
    "**Clasificación**"
   ]
  },
  {
   "cell_type": "code",
   "execution_count": 19,
   "metadata": {},
   "outputs": [],
   "source": [
    "palabras = pd.read_feather('../data/diccionario_palabras_ods')\n",
    "\n",
    "words_list = palabras[['ODS.1', 'PALABRAS']].dropna().groupby('ODS.1')['PALABRAS'].apply(list)\n",
    "words_list_nlp = [nlp(' '.join(words).lower()) for words in words_list]"
   ]
  },
  {
   "cell_type": "markdown",
   "metadata": {},
   "source": [
    "## [Objetivo 1: Fin de la pobreza](https://www.undp.org/content/undp/es/home/sustainable-development-goals/goal-1-no-poverty.html)"
   ]
  },
  {
   "cell_type": "code",
   "execution_count": 20,
   "metadata": {},
   "outputs": [],
   "source": [
    "ods_1 = \"\"\"\n",
    "Erradicar la pobreza en todas sus formas sigue siendo uno de los principales desafíos que enfrenta la humanidad. Si bien la cantidad de personas que viven en la extrema pobreza disminuyó en más de la mitad entre 1990 y 2015, aún demasiadas luchan por satisfacer las necesidades más básicas.\n",
    "\n",
    "A nivel mundial, alrededor de 736 millones de personas aún viven con menos de US$1,90 al día (2015) y muchos carecen de acceso a alimentos, agua potable y saneamiento adecuados. El crecimiento económico acelerado de países como China e India ha sacado a millones de personas de la pobreza, pero el progreso ha sido disparejo. La posibilidad de que las mujeres vivan en situación de pobreza es desproporcionadamente alta en relación con los hombres, debido al acceso desigual al trabajo remunerado, la educación y la propiedad.\n",
    "\n",
    "Los avances también han sido limitados en otras regiones, como Asia Meridional y África subsahariana, donde vive el 80% de la población mundial que se encuentra en condiciones de extrema pobreza. Además, nuevas amenazas que plantean el cambio climático, los conflictos y la inseguridad alimentaria necesitan mayores esfuerzos para sacar a las personas de la pobreza.\n",
    "\n",
    "Los Objetivos de Desarrollo Sostenible constituyen un compromiso audaz para finalizar lo que comenzamos y terminar con la pobreza en todas sus formas y dimensiones para 2030. Esto requiere enfocarse en los más vulnerables, aumentar el acceso a los recursos y servicios básicos y apoyar a las comunidades afectadas por conflictos y desastres relacionados con el clima.\n",
    "\"\"\""
   ]
  },
  {
   "cell_type": "code",
   "execution_count": 21,
   "metadata": {},
   "outputs": [
    {
     "data": {
      "text/plain": [
       "'erradicar pobreza formar principal desafío enfrentar humanidad cantidad personar vivir extremo pobreza disminuir mitad 1990 2015 demasiar luchar satisfacer necesidad básico nivel mundial 736 millón personar vivir us,90 2015 carecer acceso alimento aguar potable saneamiento adecuar crecimiento económico acelerar país china india sacar millón personar pobreza progresar disparejo posibilidad mujer vivir situación pobreza desproporcionadamente alto relación hombre acceso desigual remunerar educación propiedad avanzar limitar región asia meridional áfrica subsahariano vivir 80% población mundial condicionar extremo pobreza amenazar plantear cambiar climático conflicto inseguridad alimentario necesitar mayor esfuerzo sacar personar pobreza objetivos desarrollo sostenible constituir compromiso audaz finalizar comenzar terminar pobreza formar dimensionar 2030 requerir enfocarse vulnerable aumentar acceso recurso servicio básico apoyar comunidad afectar conflicto desastre relacionar clima'"
      ]
     },
     "execution_count": 21,
     "metadata": {},
     "output_type": "execute_result"
    }
   ],
   "source": [
    "ods_1 = clean_tweets(ods_1)\n",
    "ods_1"
   ]
  },
  {
   "cell_type": "code",
   "execution_count": 22,
   "metadata": {},
   "outputs": [
    {
     "data": {
      "text/plain": [
       "[0.779285550590821,\n",
       " 0.783839994867686,\n",
       " 0.8118746492257268,\n",
       " 0.7394701469184014,\n",
       " 0.7851740340590067,\n",
       " 0.5802161881880262,\n",
       " 0.6060942946677514,\n",
       " 0.8403538764354862,\n",
       " 0.7201978175467083,\n",
       " 0.8364762405365745,\n",
       " 0.6893683361546529,\n",
       " 0.7483268347304876,\n",
       " 0.6654156393107648,\n",
       " 0.5828273059427406,\n",
       " 0.7041392289893651,\n",
       " 0.7797578445934781,\n",
       " 0.5716903765988367]"
      ]
     },
     "execution_count": 22,
     "metadata": {},
     "output_type": "execute_result"
    }
   ],
   "source": [
    "[nlp(ods_1).similarity(words) for words in words_list_nlp]"
   ]
  },
  {
   "cell_type": "markdown",
   "metadata": {},
   "source": [
    "## [Objetivo 2: Hambre cero](https://www.undp.org/content/undp/es/home/sustainable-development-goals/goal-2-zero-hunger.html)"
   ]
  },
  {
   "cell_type": "code",
   "execution_count": 26,
   "metadata": {},
   "outputs": [],
   "source": [
    "ods_2 = \"\"\"\n",
    "Debido al rápido crecimiento económico y al aumento de la productividad agrícola en las últimas dos décadas, el número de personas desnutridas disminuyó casi a la mitad. Muchos países en desarrollo que sufrían hambrunas están ahora en condiciones de satisfacer las necesidades nutricionales de los más vulnerables. Regiones como Asia Central y Oriental y América Latina y el Caribe han avanzado enormemente en la erradicación del hambre.\n",
    "\n",
    "Desgraciadamente, el hambre y la desnutrición siguen siendo grandes obstáculos para el desarrollo de muchos países. Se estima que 821 millones de personas sufrían de desnutrición crónica al 2017, a menudo como consecuencia directa de la degradación ambiental, la sequía y la pérdida de biodiversidad. Más de 90 millones de niños menores de cinco años tienen un peso peligrosamente bajo. La desnutrición y la inseguridad alimentaria parece estar incrementándose tanto en casi todas las de regiones de África, como en América del Sur.\n",
    "\n",
    "Los Objetivos de Desarrollo Sostenible buscan terminar con todas las formas de hambre y desnutrición para 2030 y velar por el acceso de todas las personas, en especial los niños, a una alimentación suficiente y nutritiva durante todo el año. Esta tarea implica promover prácticas agrícolas sostenibles a través del apoyo a los pequeños agricultores y el acceso igualitario a la tierra, la tecnología y los mercados. Además, se requiere el fomento de la cooperación internacional para asegurar la inversión en la infraestructura y la tecnología necesaria para mejorar la productividad agrícola.\n",
    "\"\"\""
   ]
  },
  {
   "cell_type": "code",
   "execution_count": 29,
   "metadata": {},
   "outputs": [
    {
     "data": {
      "text/plain": [
       "[0.7909726479841821,\n",
       " 0.8249554007345031,\n",
       " 0.8306335472027054,\n",
       " 0.7355626098158923,\n",
       " 0.767764406170211,\n",
       " 0.6200212340964082,\n",
       " 0.6375891696077722,\n",
       " 0.848278938063251,\n",
       " 0.762007688044762,\n",
       " 0.8221344810797289,\n",
       " 0.7384925892420381,\n",
       " 0.7862445061815598,\n",
       " 0.6943666316202632,\n",
       " 0.6250229001193901,\n",
       " 0.7501406307500155,\n",
       " 0.7573917737189273,\n",
       " 0.6058019451447479]"
      ]
     },
     "execution_count": 29,
     "metadata": {},
     "output_type": "execute_result"
    }
   ],
   "source": [
    "ods_2 = clean_tweets(ods_2)\n",
    "[nlp(ods_2).similarity(words) for words in words_list_nlp]"
   ]
  },
  {
   "cell_type": "markdown",
   "metadata": {},
   "source": [
    "## [El Govern pretende cerrar Punta Ballena y la calle de la cerveza](https://www.diariodemallorca.es/mallorca/2020/07/14/govern-pretende-cerrar-punta-ballena/1523350.html)"
   ]
  },
  {
   "cell_type": "code",
   "execution_count": 28,
   "metadata": {},
   "outputs": [],
   "source": [
    "noticia = \"\"\"\n",
    "El Govern balear pretende ordenar el cierre de las dos calles de Mallorca más conflictivas a causa de las aglomeraciones de turísticas incumpliendo las medidas sanitarias que se están produciendo y cuyas imágenes están dando la vuelta al mundo: Punta Ballena en Magaluf y la conocida como calle de la cerveza en la Platja de Palma. El objetivo es lanzar un mensaje de tranquilidad a los países emisores, especialmente a Alemania, respecto a la imagen de las islas como destino seguro, muy deteriorada durante los últimos días a causa de los vídeos que han circulado con fiestas ilegales y comportamientos incívicos.\n",
    "\n",
    "Los consellers de Turismo y de Administraciones Públicas, Iago Negueruela e Isabel Castro respectivamente, han comparecido hoy para anunciar un \"endurecimiento\" de las iniciativas destinadas a evitar las vulneraciones de las medidas sanitarias que se han aprobado, y han concretado que éstas se van a centrar en las zonas tipificadas como mas afectadas por el denominado turismo de excesos, como son Platja de Palma, Magaluf y Sant Antoni de Eivissa. Sin embargo, se han negado a avanzar qué alcance va a tener ese \"endurecimiento\", al señalar que se está terminando de definir y que previsiblemente se hará público durante el día de mañana. Fuentes del sector turístico han reconocido que entre las iniciativas que se está planteando el Govern aparece el cierre de las dos calles antes señaladas.\n",
    "\n",
    "Los dos representantes del Ejecutivo balear no han ocultado el daño que el comportamiento irresponsable de unos pocos puede hacer tanto a los residentes en las islas como a sus visitantes, de ahí el objetivo de atajarlo.\n",
    "\n",
    "Este anuncio por parte de Negueruela y Castro se ha producido tras una reunión celebrada hoy con representantes de las patronales hoteleras y de los sindicatos, que ha sido \"muy tensa\" en algunos momentos por el rechazo de la parte empresarial a algunas de las iniciativas que ha tomado el Gabinete de Francina Armengol, como es la obligatoriedad de llevar siempre la mascarilla en espacios públicos salvo algunas excepciones.\n",
    "\"\"\""
   ]
  },
  {
   "cell_type": "code",
   "execution_count": 30,
   "metadata": {},
   "outputs": [
    {
     "data": {
      "text/plain": [
       "[0.6433895807139273,\n",
       " 0.6479185710223566,\n",
       " 0.707448111692085,\n",
       " 0.6593374101530624,\n",
       " 0.6757161633462677,\n",
       " 0.5312402277991756,\n",
       " 0.5129986966287136,\n",
       " 0.7262882707644215,\n",
       " 0.6436464179578479,\n",
       " 0.7026063097073116,\n",
       " 0.6367470984867267,\n",
       " 0.6718119150224988,\n",
       " 0.6137344204541554,\n",
       " 0.5538252924340162,\n",
       " 0.6264353700737133,\n",
       " 0.6987110142551988,\n",
       " 0.5187347770023865]"
      ]
     },
     "execution_count": 30,
     "metadata": {},
     "output_type": "execute_result"
    }
   ],
   "source": [
    "noticia = clean_tweets(noticia)\n",
    "[nlp(noticia).similarity(words) for words in words_list_nlp]"
   ]
  },
  {
   "cell_type": "markdown",
   "metadata": {},
   "source": [
    "## [El Mallorca lo tiene un poco más complicado](https://www.diariodemallorca.es/rcd-mallorca/2020/07/14/complicado/1523250.html)"
   ]
  },
  {
   "cell_type": "code",
   "execution_count": 31,
   "metadata": {},
   "outputs": [],
   "source": [
    "deportes = \"\"\"\n",
    "Seis puntos. Esa es la cifra que debe conseguir el Mallorca para apurar sus ya escasas opciones de permanencia. No queda otra. El Alavés, tras su empate ante el Getafe (0-0), marca el corte de la salvación con 36 puntos, igualado con el Celta, cuatro más de los que el equipo de Vicente Moreno tiene en su haber. Complicado que el Mallorca se salve, cierto, pero no es imposible.\n",
    "\n",
    "La situación clasificatoria ha pasado de color gris a negro tras un fin de semana catastrófico que no solo ha eliminado al Eibar de la terna de candidatos al descenso, sino que incluso ha incluido en la fiesta a un conjunto que parecía desahuciado como el Leganés, empatado a puntos con los bermellones y con el golaverage directo a favor. Pese a ello, no queda tiempo para lamentaciones. Todo pasa por conseguir los seis puntos que restan y esperar un gran favor del resto del rivales. Podrían bastar cuatro, las matemáticas así lo dictan, pero las probabilidades necesarias para que se dé el caso son ínfimas.\n",
    "\n",
    "Lo que es seguro es que el Alavés, que al igual que el conjunto pepinero tiene el golaverage a favor con los bermellones, no puede ganar ningún partido de los que restan y sumar como máximo un punto, mientras que el Leganés no debe vencer en alguno de los encuentros que le quedan por delante para que el Mallorca, si cumple con su trabajo, sea un año más equipo de Primera División. El cuarto equipo en la brega, el Celta, que cuenta con 36 puntos, es el que tiene a priori un mejor calendario. Ya sea venciendo en casa al Levante, que no se juega nada más allá de objetivos internos, o consiguiendo el triunfo ante el Espanyol, ya descendido, en Cornellà, los de Óscar García tienen a tiro sellar su permanencia en Primera.\n",
    "\n",
    "Como pronto, el Mallorca tendrá que tumbar al Granada este jueves en el Visit Mallorca Estadi, que no será nada fácil. Y un dato importante: si Celta y Alavés consiguen el mismo resultado que se produzca en Son Moix, sea victoria, empate o derrota, el Mallorca será nuevo equipo de Segunda División.\n",
    "\n",
    "La misión que tiene el Mallorca adopta ya unas dimensiones titánicas. Demasiadas variables en juego y la dependencia de otros resultados convierten lograr la permanencia en una gesta épica. Todo puede pasar en el fútbol. En apenas dos días se decidirá todo.\n",
    "\"\"\""
   ]
  },
  {
   "cell_type": "code",
   "execution_count": 32,
   "metadata": {},
   "outputs": [
    {
     "data": {
      "text/plain": [
       "[0.5014104454057435,\n",
       " 0.5651478353461546,\n",
       " 0.5693213403681013,\n",
       " 0.5366688755709058,\n",
       " 0.5503250379320013,\n",
       " 0.38963256698520377,\n",
       " 0.4439108466611069,\n",
       " 0.5793873929786267,\n",
       " 0.4787202090149401,\n",
       " 0.5421675209289147,\n",
       " 0.4719464155259662,\n",
       " 0.5290172132787552,\n",
       " 0.5205932443057127,\n",
       " 0.43018135484564807,\n",
       " 0.48265602497236604,\n",
       " 0.5194781874594344,\n",
       " 0.41808651240408895]"
      ]
     },
     "execution_count": 32,
     "metadata": {},
     "output_type": "execute_result"
    }
   ],
   "source": [
    "deportes = clean_tweets(deportes)\n",
    "[nlp(deportes).similarity(words) for words in words_list_nlp]"
   ]
  },
  {
   "cell_type": "markdown",
   "metadata": {},
   "source": [
    "## [LEYENDAS DEL ROCK 2021: entradas ya a la venta](https://www.rafabasa.com/2020/07/13/leyendas-del-rock-2021-entradas-ya-a-la-venta/)"
   ]
  },
  {
   "cell_type": "code",
   "execution_count": 33,
   "metadata": {},
   "outputs": [],
   "source": [
    "concierto = \"\"\"\n",
    "¡Las entradas para LEYENDAS DEL ROCK 2021 ya están a la venta! Abono 3 días, camping sombra y piscina. Y lo hacemos con una oferta muy especial, un regalo de 10€ en tokens por abono 3 días adquirido (solo en la red de Ticketmaster). Oferta válida hasta el 31 de julio. También puedes adquirir tu abono a todo color en los puntos habituales.\n",
    "\n",
    "Puedes adquirir aquí tu abono\n",
    "\n",
    "Después de las reconfirmaciones de STRATOVARIUS, SARATOGA y JINJER, en las próximas semanas iremos desvelando los nombres que ya teníamos confirmados en 2020 y siguen en cartel, así como el anuncio de nuevas bandas de cara a nuestra edición de 2021. Permanece atento y sobre todo, ¡¡permanece muy heavy!!\n",
    "\"\"\""
   ]
  },
  {
   "cell_type": "code",
   "execution_count": 34,
   "metadata": {},
   "outputs": [
    {
     "data": {
      "text/plain": [
       "[0.2715914235078668,\n",
       " 0.39471491881475373,\n",
       " 0.3246180140628708,\n",
       " 0.39444278506035546,\n",
       " 0.28493539896253284,\n",
       " 0.3056374786514312,\n",
       " 0.3551473116446221,\n",
       " 0.3780156746859772,\n",
       " 0.3761442965355766,\n",
       " 0.29758496859115285,\n",
       " 0.3742374562828454,\n",
       " 0.4455249089094482,\n",
       " 0.44562735335873216,\n",
       " 0.23151233403490784,\n",
       " 0.26529118729360046,\n",
       " 0.21951367590473841,\n",
       " 0.218246410865622]"
      ]
     },
     "execution_count": 34,
     "metadata": {},
     "output_type": "execute_result"
    }
   ],
   "source": [
    "concierto = clean_tweets(concierto)\n",
    "[nlp(concierto).similarity(words) for words in words_list_nlp]"
   ]
  }
 ],
 "metadata": {
  "kernelspec": {
   "display_name": "Python 3",
   "language": "python",
   "name": "python3"
  },
  "language_info": {
   "codemirror_mode": {
    "name": "ipython",
    "version": 3
   },
   "file_extension": ".py",
   "mimetype": "text/x-python",
   "name": "python",
   "nbconvert_exporter": "python",
   "pygments_lexer": "ipython3",
   "version": "3.6.10"
  }
 },
 "nbformat": 4,
 "nbformat_minor": 4
}
