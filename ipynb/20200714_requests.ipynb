{
 "cells": [
  {
   "cell_type": "markdown",
   "metadata": {},
   "source": [
    "Ejemplo de llamada al _webservice_"
   ]
  },
  {
   "cell_type": "code",
   "execution_count": 1,
   "metadata": {},
   "outputs": [],
   "source": [
    "import requests\n",
    "import json"
   ]
  },
  {
   "cell_type": "code",
   "execution_count": 2,
   "metadata": {},
   "outputs": [],
   "source": [
    "url = \"http://localhost:5000\""
   ]
  },
  {
   "cell_type": "code",
   "execution_count": 3,
   "metadata": {},
   "outputs": [],
   "source": [
    "ods_2 = \"\"\"\n",
    "Debido al rápido crecimiento económico y al aumento de la productividad agrícola en las últimas dos décadas, el número de personas desnutridas disminuyó casi a la mitad. Muchos países en desarrollo que sufrían hambrunas están ahora en condiciones de satisfacer las necesidades nutricionales de los más vulnerables. Regiones como Asia Central y Oriental y América Latina y el Caribe han avanzado enormemente en la erradicación del hambre.\n",
    "\n",
    "Desgraciadamente, el hambre y la desnutrición siguen siendo grandes obstáculos para el desarrollo de muchos países. Se estima que 821 millones de personas sufrían de desnutrición crónica al 2017, a menudo como consecuencia directa de la degradación ambiental, la sequía y la pérdida de biodiversidad. Más de 90 millones de niños menores de cinco años tienen un peso peligrosamente bajo. La desnutrición y la inseguridad alimentaria parece estar incrementándose tanto en casi todas las de regiones de África, como en América del Sur.\n",
    "\n",
    "Los Objetivos de Desarrollo Sostenible buscan terminar con todas las formas de hambre y desnutrición para 2030 y velar por el acceso de todas las personas, en especial los niños, a una alimentación suficiente y nutritiva durante todo el año. Esta tarea implica promover prácticas agrícolas sostenibles a través del apoyo a los pequeños agricultores y el acceso igualitario a la tierra, la tecnología y los mercados. Además, se requiere el fomento de la cooperación internacional para asegurar la inversión en la infraestructura y la tecnología necesaria para mejorar la productividad agrícola.\n",
    "\"\"\""
   ]
  },
  {
   "cell_type": "code",
   "execution_count": 4,
   "metadata": {},
   "outputs": [],
   "source": [
    "payload = { \"text\": ods_2}"
   ]
  },
  {
   "cell_type": "code",
   "execution_count": 5,
   "metadata": {},
   "outputs": [
    {
     "data": {
      "text/plain": [
       "200"
      ]
     },
     "execution_count": 5,
     "metadata": {},
     "output_type": "execute_result"
    }
   ],
   "source": [
    "response = requests.post(url, json=payload)\n",
    "response.status_code"
   ]
  },
  {
   "cell_type": "code",
   "execution_count": 6,
   "metadata": {},
   "outputs": [
    {
     "data": {
      "text/plain": [
       "[0.7986402178618875,\n",
       " 0.8261174618843236,\n",
       " 0.8339785892698295,\n",
       " 0.7365200106428437,\n",
       " 0.7737188275086234,\n",
       " 0.6212504577973911,\n",
       " 0.6369638681045555,\n",
       " 0.8523199401349276,\n",
       " 0.7633219579811927,\n",
       " 0.8272678893712321,\n",
       " 0.7442665558127006,\n",
       " 0.7879045688323357,\n",
       " 0.6993982787070482,\n",
       " 0.6270059933401393,\n",
       " 0.7551870985029612,\n",
       " 0.764097943001074,\n",
       " 0.6112705594506679]"
      ]
     },
     "execution_count": 6,
     "metadata": {},
     "output_type": "execute_result"
    }
   ],
   "source": [
    "json.loads(response.text)"
   ]
  }
 ],
 "metadata": {
  "kernelspec": {
   "display_name": "Python 3",
   "language": "python",
   "name": "python3"
  },
  "language_info": {
   "codemirror_mode": {
    "name": "ipython",
    "version": 3
   },
   "file_extension": ".py",
   "mimetype": "text/x-python",
   "name": "python",
   "nbconvert_exporter": "python",
   "pygments_lexer": "ipython3",
   "version": "3.6.10"
  }
 },
 "nbformat": 4,
 "nbformat_minor": 4
}
